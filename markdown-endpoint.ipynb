{
 "cells": [
  {
   "cell_type": "code",
   "execution_count": 1,
   "id": "7fe8247b-36dc-4bfe-a41e-fb831b90bc3e",
   "metadata": {},
   "outputs": [],
   "source": [
    "from fastapi import FastAPI, HTTPException, Request, Response \n",
    "from typing import Optional\n",
    "from pydantic import BaseModel\n",
    "\n",
    "# Import your text processing function from wherever it's defined\n",
    "from markdown_generator import process_text\n",
    "\n",
    "app = FastAPI()\n",
    "\n",
    "class TextPayload(BaseModel):\n",
    "    main_text: str\n",
    "    sub_text: Optional[str] = \"\"\n",
    "\n",
    "@app.post(\"/process_texts/\", response_class=Response)\n",
    "def process_texts(payload: TextPayload):\n",
    "    try:\n",
    "        result = process_text(payload.main_text, payload.sub_text)\n",
    "        return Response(content=result, media_type=\"text/plain\")\n",
    "    except Exception as e:\n",
    "        raise HTTPException(status_code=500, detail=str(e))\n"
   ]
  },
  {
   "cell_type": "code",
   "execution_count": null,
   "id": "f9fc0e83-9f5c-4b91-91ce-d5767efe55c7",
   "metadata": {},
   "outputs": [],
   "source": []
  }
 ],
 "metadata": {
  "kernelspec": {
   "display_name": "Python 3 (ipykernel)",
   "language": "python",
   "name": "python3"
  },
  "language_info": {
   "codemirror_mode": {
    "name": "ipython",
    "version": 3
   },
   "file_extension": ".py",
   "mimetype": "text/x-python",
   "name": "python",
   "nbconvert_exporter": "python",
   "pygments_lexer": "ipython3",
   "version": "3.8.3"
  }
 },
 "nbformat": 4,
 "nbformat_minor": 5
}
